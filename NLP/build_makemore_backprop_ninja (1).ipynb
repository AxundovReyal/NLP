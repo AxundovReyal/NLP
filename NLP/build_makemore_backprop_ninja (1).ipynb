{
  "nbformat": 4,
  "nbformat_minor": 0,
  "metadata": {
    "colab": {
      "provenance": [],
      "gpuType": "T4"
    },
    "kernelspec": {
      "name": "python3",
      "display_name": "Python 3"
    },
    "language_info": {
      "name": "python"
    },
    "accelerator": "GPU"
  },
  "cells": [
    {
      "cell_type": "markdown",
      "source": [
        "#makemore: becoming a backprop ninja"
      ],
      "metadata": {
        "id": "I2uE11yIn9Vv"
      }
    },
    {
      "cell_type": "code",
      "source": [
        "import torch\n",
        "import torch.nn.functional as F\n",
        "import matplotlib.pyplot as plt\n",
        "%matplotlib inline"
      ],
      "metadata": {
        "id": "oa5MW3aLoMOZ"
      },
      "execution_count": null,
      "outputs": []
    },
    {
      "cell_type": "code",
      "source": [
        "!wget https://raw.githubusercontent.com/karpathy/makemore/master/names.txt"
      ],
      "metadata": {
        "colab": {
          "base_uri": "https://localhost:8080/"
        },
        "id": "qbe-ggEioMJ0",
        "outputId": "2422ca28-6904-44a7-d1ff-0452f86d48e5"
      },
      "execution_count": null,
      "outputs": [
        {
          "output_type": "stream",
          "name": "stdout",
          "text": [
            "--2025-06-24 15:07:15--  https://raw.githubusercontent.com/karpathy/makemore/master/names.txt\n",
            "Resolving raw.githubusercontent.com (raw.githubusercontent.com)... 185.199.108.133, 185.199.109.133, 185.199.110.133, ...\n",
            "Connecting to raw.githubusercontent.com (raw.githubusercontent.com)|185.199.108.133|:443... connected.\n",
            "HTTP request sent, awaiting response... 200 OK\n",
            "Length: 228145 (223K) [text/plain]\n",
            "Saving to: ‘names.txt’\n",
            "\n",
            "names.txt           100%[===================>] 222.80K  --.-KB/s    in 0.004s  \n",
            "\n",
            "2025-06-24 15:07:15 (56.9 MB/s) - ‘names.txt’ saved [228145/228145]\n",
            "\n"
          ]
        }
      ]
    },
    {
      "cell_type": "code",
      "source": [
        "words = open('names.txt', 'r').read().splitlines()\n",
        "print(len(words))\n",
        "print(max(w) for w in words)\n",
        "print(words[:8])"
      ],
      "metadata": {
        "colab": {
          "base_uri": "https://localhost:8080/"
        },
        "id": "tideZPBVoMHV",
        "outputId": "4cf4e013-58d0-4194-dc17-3191e669a6b6"
      },
      "execution_count": null,
      "outputs": [
        {
          "output_type": "stream",
          "name": "stdout",
          "text": [
            "32033\n",
            "<generator object <genexpr> at 0x7c8fa1f958c0>\n",
            "['emma', 'olivia', 'ava', 'isabella', 'sophia', 'charlotte', 'mia', 'amelia']\n"
          ]
        }
      ]
    },
    {
      "cell_type": "code",
      "source": [
        "chars = sorted(list(set(''.join(words))))\n",
        "stoi = {s:i+1 for i, s in enumerate(chars)}\n",
        "stoi['.'] = 0\n",
        "itos = {i:s for s, i in stoi.items()}\n",
        "vocab_size = len(itos)\n",
        "print(itos)\n",
        "print(vocab_size)"
      ],
      "metadata": {
        "colab": {
          "base_uri": "https://localhost:8080/"
        },
        "id": "oEYtpR1joMCv",
        "outputId": "8cd01ced-6cfb-413d-f088-58508277076a"
      },
      "execution_count": null,
      "outputs": [
        {
          "output_type": "stream",
          "name": "stdout",
          "text": [
            "{1: 'a', 2: 'b', 3: 'c', 4: 'd', 5: 'e', 6: 'f', 7: 'g', 8: 'h', 9: 'i', 10: 'j', 11: 'k', 12: 'l', 13: 'm', 14: 'n', 15: 'o', 16: 'p', 17: 'q', 18: 'r', 19: 's', 20: 't', 21: 'u', 22: 'v', 23: 'w', 24: 'x', 25: 'y', 26: 'z', 0: '.'}\n",
            "27\n"
          ]
        }
      ]
    },
    {
      "cell_type": "code",
      "source": [
        "block_size = 3\n",
        "\n",
        "def build_dataset(words):\n",
        "  X, Y = [], []\n",
        "\n",
        "\n",
        "  for w in words:\n",
        "    context = [0] * block_size\n",
        "    for ch in w + '.':\n",
        "      ix = stoi[ch]\n",
        "      X.append(context)\n",
        "      Y.append(ix)\n",
        "      context = context[1:] + [ix]\n",
        "\n",
        "\n",
        "\n",
        "  X = torch.tensor(X)\n",
        "  Y = torch.tensor(Y)\n",
        "  print(X.shape, Y.shape)\n",
        "  return X, Y\n",
        "\n",
        "\n",
        "import random\n",
        "random.seed(42)\n",
        "random.shuffle(words)\n",
        "n1 = int(0.8*len(words))\n",
        "n2 = int(0.9 * len(words))\n",
        "\n",
        "\n",
        "Xtr, Ytr = build_dataset(words[:n1])\n",
        "Xdev, Ydev = build_dataset(words[n1:n2])\n",
        "Xte, Yte = build_dataset(words[n2:])"
      ],
      "metadata": {
        "colab": {
          "base_uri": "https://localhost:8080/"
        },
        "id": "qv6U2Z_epnpj",
        "outputId": "ac59a8fc-c8f1-4559-c797-b6924063fcbf"
      },
      "execution_count": null,
      "outputs": [
        {
          "output_type": "stream",
          "name": "stdout",
          "text": [
            "torch.Size([182625, 3]) torch.Size([182625])\n",
            "torch.Size([22655, 3]) torch.Size([22655])\n",
            "torch.Size([22866, 3]) torch.Size([22866])\n"
          ]
        }
      ]
    },
    {
      "cell_type": "code",
      "source": [
        "def cmp(s, dt, t):\n",
        "  ex = torch.all(dt == t.grad).item()\n",
        "  app = torch.allclose(dt, t.grad)\n",
        "  maxdiff = (dt - t.grad).abs().max().item()\n",
        "  print(f'{s:15s} | exact: {str(ex) :5s} | approximite: {str(app):5s} | maxdiff: {maxdiff}')"
      ],
      "metadata": {
        "id": "hllOBHctrvxE"
      },
      "execution_count": null,
      "outputs": []
    },
    {
      "cell_type": "code",
      "source": [
        "n_embed = 10\n",
        "n_hidden = 64\n",
        "\n",
        "g = torch.Generator().manual_seed(2147483647)\n",
        "C = torch.randn((vocab_size, n_embed), generator=g)\n",
        "#Layer1\n",
        "W1 = torch.randn((n_embed * block_size, n_hidden), generator=g) * (5/3)/((n_embed * block_size) **0.5)\n",
        "b1 = torch.randn(n_hidden, generator = g) * 0.1\n",
        "#Layer2\n",
        "W2 = torch.randn((n_hidden, vocab_size), generator = g) * 0.1\n",
        "b2 = torch.randn(vocab_size, generator = g) * 0.1\n",
        "#BatchNorm parametrs\n",
        "bngain = torch.randn((1, n_hidden)) *0.1 + 1.0\n",
        "bnbias = torch.randn((1, n_hidden))*0.1\n",
        "\n",
        "parametrs = [C, W1, b1, W2, b2, bngain, bnbias]\n",
        "print(sum(p.nelement() for p in parametrs))\n",
        "for p in parametrs:\n",
        "  p.requires_grad = True"
      ],
      "metadata": {
        "colab": {
          "base_uri": "https://localhost:8080/"
        },
        "id": "wAwNFkZis7kK",
        "outputId": "89856f48-18b4-412c-9cf6-9351d36e0bc7"
      },
      "execution_count": null,
      "outputs": [
        {
          "output_type": "stream",
          "name": "stdout",
          "text": [
            "4137\n"
          ]
        }
      ]
    },
    {
      "cell_type": "code",
      "source": [
        "batch_size = 32\n",
        "n = batch_size\n",
        "ix = torch.randint(0, Xtr.shape[0], (batch_size,), generator = g)\n",
        "Xb, Yb = Xtr[ix], Ytr[ix]"
      ],
      "metadata": {
        "id": "1ixsZo8Huzh3"
      },
      "execution_count": null,
      "outputs": []
    },
    {
      "cell_type": "code",
      "source": [
        "emb = C[Xb]\n",
        "embcat = emb.view(emb.shape[0], -1)\n",
        "#Linear Layer 1\n",
        "hprebn = embcat @ W1 + b1\n",
        "#BatchNorm layer\n",
        "bnmeani = 1/n*hprebn.sum(0, keepdim = True)\n",
        "bndiff = hprebn - bnmeani\n",
        "bndiff2 = bndiff ** 2\n",
        "bnvar = 1/(n-1)*(bndiff2).sum(0, keepdim = True)\n",
        "bnvar_inv = (bnvar + 1e-5)**-0.5\n",
        "bnraw = bndiff * bnvar_inv\n",
        "hpreact = bngain * bnraw + bnbias\n",
        "# Non - linearity\n",
        "h = torch.tanh(hpreact)\n",
        "logits = h @ W2 + b2\n",
        "#cross entropy loss (same as F.cross_entropy(logits, Yb))\n",
        "logit_maxes = logits.max(1, keepdim = True).values\n",
        "norm_logits = logits - logit_maxes\n",
        "counts = norm_logits.exp()\n",
        "counts_sum = counts.sum(1, keepdims = True)\n",
        "counts_sum_inv = counts_sum**-1\n",
        "probs = counts * counts_sum_inv\n",
        "logprobs = probs.log()\n",
        "loss = -logprobs[range(n), Yb].mean()\n",
        "\n",
        "\n",
        "for p in parametrs:\n",
        "  p.grad = None\n",
        "for t in [logprobs, probs, counts, counts_sum, counts_sum_inv,\n",
        "          norm_logits, logit_maxes, logits, h, hpreact, bnraw,\n",
        "          bnvar_inv, bnvar, bndiff2, bndiff, hprebn, bnmeani,\n",
        "          embcat, emb]:\n",
        "          t.retain_grad()\n",
        "loss.backward()\n",
        "loss"
      ],
      "metadata": {
        "colab": {
          "base_uri": "https://localhost:8080/"
        },
        "id": "t7SUrAzxx3J5",
        "outputId": "ad6bc261-2481-45b7-ead4-aad1b15a0562"
      },
      "execution_count": null,
      "outputs": [
        {
          "output_type": "execute_result",
          "data": {
            "text/plain": [
              "tensor(3.3537, grad_fn=<NegBackward0>)"
            ]
          },
          "metadata": {},
          "execution_count": 11
        }
      ]
    },
    {
      "cell_type": "code",
      "source": [
        "dlogprobs = torch.zeros_like(logprobs)\n",
        "dlogprobs[range(n), Yb] = -1.0/n\n",
        "dprobs = (1.0/probs) * dlogprobs\n",
        "dcounts_sum_inv = (dprobs * counts).sum(1, keepdim = True)\n",
        "dcounts = dprobs * counts_sum_inv\n",
        "dcounts_sum = (-counts_sum ** -2) * dcounts_sum_inv\n",
        "dcounts+= torch.ones_like(counts) * dcounts_sum\n",
        "dnorm_logits = counts * dcounts\n",
        "dlogit_maxes =(-dnorm_logits).sum(1, keepdim = True)\n",
        "dlogits = dnorm_logits.clone()\n",
        "dlogits += F.one_hot(logits.max(1).indices, num_classes=logits.shape[1]) * dlogit_maxes\n",
        "dh = dlogits @ W2. T\n",
        "dW2 = h.T @ dlogits\n",
        "db2 = dlogits.sum(0)\n",
        "dhpreact = (1 - h ** 2) * dh\n",
        "dbngain = (bnraw * dhpreact).sum(0, keepdim = True)\n",
        "dbnraw = dhpreact * bngain\n",
        "dbnbias = dhpreact.sum(0, keepdim = True)\n",
        "dbndiff = bnvar_inv * dbnraw\n",
        "dbnvar_inv = (bndiff * dbnraw).sum(0, keepdim = True)\n",
        "dbnvar = (-0.5 * (bnvar + 1e-5) ** -1.5) * dbnvar_inv\n",
        "dbndiff2 = (1.0/(n-1)) * torch.ones_like(dbndiff) * dbnvar\n",
        "dbndiff += 2 * bndiff * dbndiff2\n",
        "dhprebn = dbndiff.clone()\n",
        "dbnmeani = (-dbndiff).sum()\n",
        "dhprebn += (1/n) * torch.ones_like(hprebn) * dbnmeani\n",
        "dembcat = dhprebn @ W1.T\n",
        "dW1 = embcat.T @ dhprebn\n",
        "db1 = dhprebn.sum(0)\n",
        "demb = dembcat.view(emb.shape)\n",
        "dC = torch.zeros_like(C)\n",
        "for t in range(Xb.shape[0]):\n",
        "  for k in range(Xb.shape[1]):\n",
        "    ix = Xb[t, k]\n",
        "    dC[ix] += demb[t, k]\n",
        "\n",
        "\n",
        "def cmp(s, dt, t):\n",
        "  ex = (t.grad is not None) and torch.all(dt == t.grad).item()\n",
        "  app = (t.grad is not None) and torch.allclose(dt, t.grad)\n",
        "  maxdiff = (t.grad is not None) and (dt - t.grad).abs().max().item() or float('inf')\n",
        "  print(f'{s:15s} | exact: {str(ex) :5s} | approximite: {str(app):5s} | maxdiff: {maxdiff}')\n",
        "\n",
        "\n",
        "cmp('logprobs', dlogprobs, logprobs)\n",
        "cmp('dprobs', dprobs, probs)\n",
        "cmp('counts_sum_inv', dcounts_sum_inv, counts_sum_inv)\n",
        "cmp('counts', dcounts, counts)\n",
        "cmp('norm_logits', dnorm_logits, norm_logits)\n",
        "cmp('logit_maxes', dlogit_maxes, logit_maxes)\n",
        "cmp('logits', dlogits, logits)\n",
        "cmp('h', dh, h)\n",
        "cmp('W2', dW2, W2)\n",
        "cmp('b2', db2, b2)\n",
        "cmp('hpreact', dhpreact, hpreact)\n",
        "cmp('bngain', dbngain, bngain)\n",
        "cmp('bnbias', dbnbias, bnbias)\n",
        "cmp('bnraw', dbnraw, bnraw)\n",
        "cmp('bnvar_inv', dbnvar_inv, bnvar_inv)\n",
        "cmp('bndiff2', dbndiff2, bndiff2)\n",
        "cmp('bndiff', dbndiff, bndiff)\n",
        "cmp('bnmeani', dbnmeani, bnmeani)\n",
        "cmp('hprebn', dhprebn, hprebn)\n",
        "cmp('embcat', dembcat, embcat)\n",
        "cmp('W1', dW1, W1)\n",
        "cmp('b1', db1, b1)\n",
        "cmp('emb', demb, emb)\n",
        "cmp('C', dC, C)"
      ],
      "metadata": {
        "id": "uCZDwaEu3PXO",
        "colab": {
          "base_uri": "https://localhost:8080/"
        },
        "outputId": "4c7a2f7e-febb-444f-f818-0f5264c0a113"
      },
      "execution_count": null,
      "outputs": [
        {
          "output_type": "stream",
          "name": "stdout",
          "text": [
            "logprobs        | exact: True  | approximite: True  | maxdiff: inf\n",
            "dprobs          | exact: True  | approximite: True  | maxdiff: inf\n",
            "counts_sum_inv  | exact: True  | approximite: True  | maxdiff: inf\n",
            "counts          | exact: True  | approximite: True  | maxdiff: inf\n",
            "norm_logits     | exact: True  | approximite: True  | maxdiff: inf\n",
            "logit_maxes     | exact: True  | approximite: True  | maxdiff: inf\n",
            "logits          | exact: True  | approximite: True  | maxdiff: inf\n",
            "h               | exact: True  | approximite: True  | maxdiff: inf\n",
            "W2              | exact: True  | approximite: True  | maxdiff: inf\n",
            "b2              | exact: True  | approximite: True  | maxdiff: inf\n",
            "hpreact         | exact: False | approximite: True  | maxdiff: 9.313225746154785e-10\n",
            "bngain          | exact: False | approximite: True  | maxdiff: 1.862645149230957e-09\n",
            "bnbias          | exact: False | approximite: True  | maxdiff: 3.725290298461914e-09\n",
            "bnraw           | exact: False | approximite: True  | maxdiff: 9.313225746154785e-10\n",
            "bnvar_inv       | exact: False | approximite: True  | maxdiff: 3.725290298461914e-09\n",
            "bndiff2         | exact: False | approximite: True  | maxdiff: 1.4551915228366852e-11\n",
            "bndiff          | exact: False | approximite: True  | maxdiff: 4.656612873077393e-10\n",
            "bnmeani         | exact: False | approximite: False | maxdiff: 0.1050565168261528\n",
            "hprebn          | exact: False | approximite: False | maxdiff: 0.0032830166164785624\n",
            "embcat          | exact: False | approximite: False | maxdiff: 0.014542501419782639\n",
            "W1              | exact: False | approximite: False | maxdiff: 0.12751467525959015\n",
            "b1              | exact: False | approximite: False | maxdiff: 0.1050565093755722\n",
            "emb             | exact: False | approximite: False | maxdiff: 0.014542501419782639\n",
            "C               | exact: False | approximite: False | maxdiff: 0.22471663355827332\n"
          ]
        }
      ]
    },
    {
      "cell_type": "code",
      "source": [
        "loss_fast = F.cross_entropy(logits, Yb)\n",
        "print(loss_fast.item(), 'diff:', (loss_fast - loss).item())"
      ],
      "metadata": {
        "colab": {
          "base_uri": "https://localhost:8080/"
        },
        "id": "HlNqcsCwe9Qo",
        "outputId": "25345e27-097d-4e46-b9ca-ee37066f2734"
      },
      "execution_count": null,
      "outputs": [
        {
          "output_type": "stream",
          "name": "stdout",
          "text": [
            "3.3537099361419678 diff: -2.384185791015625e-07\n"
          ]
        }
      ]
    },
    {
      "cell_type": "code",
      "source": [
        "dlogits = F.softmax(logits,1)\n",
        "dlogits[range(n), Yb] -= 1\n",
        "dlogits /= n\n",
        "cmp('logits', dlogits, logits)"
      ],
      "metadata": {
        "colab": {
          "base_uri": "https://localhost:8080/"
        },
        "id": "ES7HuUmxgDcY",
        "outputId": "c4e9d1e3-9933-48ec-c484-ba6f64e52ae6"
      },
      "execution_count": null,
      "outputs": [
        {
          "output_type": "stream",
          "name": "stdout",
          "text": [
            "logits          | exact: False | approximite: True  | maxdiff: 6.51925802230835e-09\n"
          ]
        }
      ]
    },
    {
      "cell_type": "code",
      "source": [
        "hpreact_fast = bngain * (hprebn - hprebn.mean(0, keepdim=True)) / torch.sqrt(hprebn.var(0, keepdim=True, unbiased=True) + 1e-5) + bnbias\n",
        "print('max diff:', (hpreact_fast - hpreact).abs().max())"
      ],
      "metadata": {
        "colab": {
          "base_uri": "https://localhost:8080/"
        },
        "id": "NtycbC9NjxSe",
        "outputId": "f7ebd372-4c4a-41f0-b03d-e88a1e092116"
      },
      "execution_count": null,
      "outputs": [
        {
          "output_type": "stream",
          "name": "stdout",
          "text": [
            "max diff: tensor(4.7684e-07, grad_fn=<MaxBackward1>)\n"
          ]
        }
      ]
    },
    {
      "cell_type": "code",
      "source": [],
      "metadata": {
        "id": "KnIBavQlgODK"
      },
      "execution_count": null,
      "outputs": []
    }
  ]
}